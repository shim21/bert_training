{
 "cells": [
  {
   "cell_type": "code",
   "execution_count": 1,
   "metadata": {},
   "outputs": [],
   "source": [
    "import os\n",
    "\n",
    "import numpy as np\n",
    "import matplotlib.pyplot as plt\n",
    "\n",
    "import tensorflow as tf\n",
    "\n",
    "import tensorflow_hub as hub\n",
    "import tensorflow_datasets as tfds\n",
    "tfds.disable_progress_bar()\n",
    "\n",
    "os.environ[\"CUDA_VISIBLE_DEVICES\"]=\"0\""
   ]
  },
  {
   "cell_type": "code",
   "execution_count": 2,
   "metadata": {},
   "outputs": [],
   "source": [
    "from official.modeling import tf_utils\n",
    "from official import nlp\n",
    "from official.nlp import bert\n",
    "\n",
    "# Load the required submodules\n",
    "import official.nlp.optimization\n",
    "import official.nlp.bert.bert_models\n",
    "import official.nlp.bert.configs\n",
    "import official.nlp.bert.run_classifier\n",
    "import official.nlp.bert.tokenization\n",
    "import official.nlp.data.classifier_data_lib\n",
    "import official.nlp.modeling.losses\n",
    "import official.nlp.modeling.models\n",
    "import official.nlp.modeling.networks"
   ]
  },
  {
   "cell_type": "markdown",
   "metadata": {},
   "source": [
    "## BERT Import"
   ]
  },
  {
   "cell_type": "code",
   "execution_count": 3,
   "metadata": {},
   "outputs": [
    {
     "data": {
      "text/plain": [
       "['bert_config.json',\n",
       " 'bert_model.ckpt.meta',\n",
       " 'bert_model.ckpt.index',\n",
       " 'vocab.txt',\n",
       " 'bert_model.ckpt.data-00000-of-00001']"
      ]
     },
     "execution_count": 3,
     "metadata": {},
     "output_type": "execute_result"
    }
   ],
   "source": [
    "bert_dir = \"./bertModel/\"\n",
    "\n",
    "bert_base = \"multi_cased_L-12_H-768_A-12\"\n",
    "bert_small = \"uncased_L-8_H-512_A-8\"\n",
    "bert_smaller = \"uncased_L-4_H-512_A-8\"\n",
    "\n",
    "gs_folder_bert = bert_dir+bert_base\n",
    "tf.io.gfile.listdir(gs_folder_bert)"
   ]
  },
  {
   "cell_type": "markdown",
   "metadata": {},
   "source": [
    "## Dataset load"
   ]
  },
  {
   "cell_type": "markdown",
   "metadata": {},
   "source": [
    "#### 데이터 셋 설명\n",
    "- Microsoft Research Paraphrase Corpus가 온라인 뉴스 소스에서 자동으로 추출된 문장 쌍의 모음\n",
    "- 쌍의 문장이 의미상 동일한 지의 여부에 대해 사람이 만든 주석을 포함함"
   ]
  },
  {
   "cell_type": "code",
   "execution_count": 4,
   "metadata": {},
   "outputs": [],
   "source": [
    "glue, info = tfds.load('glue/mrpc', with_info=True,\n",
    "                       # It's small, load the whole dataset\n",
    "                       batch_size=-1)"
   ]
  },
  {
   "cell_type": "code",
   "execution_count": 5,
   "metadata": {},
   "outputs": [
    {
     "data": {
      "text/plain": [
       "['train', 'validation', 'test']"
      ]
     },
     "execution_count": 5,
     "metadata": {},
     "output_type": "execute_result"
    }
   ],
   "source": [
    "list(glue.keys())"
   ]
  },
  {
   "cell_type": "markdown",
   "metadata": {},
   "source": [
    "#### \"info\" 객체는 데이터 셋 및 그 기능에 대한 설명"
   ]
  },
  {
   "cell_type": "code",
   "execution_count": 6,
   "metadata": {},
   "outputs": [
    {
     "name": "stdout",
     "output_type": "stream",
     "text": [
      "FeaturesDict({\n",
      "    'idx': tf.int32,\n",
      "    'label': ClassLabel(shape=(), dtype=tf.int64, num_classes=2),\n",
      "    'sentence1': Text(shape=(), dtype=tf.string),\n",
      "    'sentence2': Text(shape=(), dtype=tf.string),\n",
      "})\n",
      "\n",
      " the classes of dataset: ['not_equivalent', 'equivalent']\n"
     ]
    }
   ],
   "source": [
    "print(info.features)\n",
    "print(f\"\\n the classes of dataset: {info.features['label'].names}\")"
   ]
  },
  {
   "cell_type": "markdown",
   "metadata": {},
   "source": [
    "#### Training Set에서 한 샘플"
   ]
  },
  {
   "cell_type": "code",
   "execution_count": 7,
   "metadata": {},
   "outputs": [
    {
     "name": "stdout",
     "output_type": "stream",
     "text": [
      "idx      : 1680\n",
      "label    : 0\n",
      "sentence1: b'The identical rovers will act as robotic geologists , searching for evidence of past water .'\n",
      "sentence2: b'The rovers act as robotic geologists , moving on six wheels .'\n"
     ]
    }
   ],
   "source": [
    "glue_train = glue['train']\n",
    "\n",
    "for key, value in glue_train.items():\n",
    "    print(f\"{key:9s}: {value[0].numpy()}\")"
   ]
  },
  {
   "cell_type": "markdown",
   "metadata": {},
   "source": [
    "## BERT Tokenizer"
   ]
  },
  {
   "cell_type": "markdown",
   "metadata": {},
   "source": [
    "불러온 pretrain된 BERT 모델과 vocab.txt에 등록된 tokens에 따른 tokenizer를 생성"
   ]
  },
  {
   "cell_type": "code",
   "execution_count": 8,
   "metadata": {},
   "outputs": [
    {
     "name": "stdout",
     "output_type": "stream",
     "text": [
      "Vocab size: 119547\n"
     ]
    }
   ],
   "source": [
    "tokenizer = bert.tokenization.FullTokenizer(\n",
    "    vocab_file = os.path.join(gs_folder_bert, \"vocab.txt\"), \n",
    "    do_lower_case = True ## 소문자로 고침\n",
    ")\n",
    "\n",
    "print(f\"Vocab size: {len(tokenizer.vocab)}\")"
   ]
  },
  {
   "cell_type": "code",
   "execution_count": 9,
   "metadata": {},
   "outputs": [
    {
     "name": "stdout",
     "output_type": "stream",
     "text": [
      "토큰화된 문장 : ['hell', '##o', 'ten', '##sor', '##flow', '!']\n",
      "인덱싱화 된 토큰 : [61694, 10133, 11769, 28919, 105739, 106]\n"
     ]
    }
   ],
   "source": [
    "# 문장을 토큰화\n",
    "tokens = tokenizer.tokenize(\"Hello Tensorflow!\")\n",
    "print(f\"토큰화된 문장 : {tokens}\")\n",
    "\n",
    "# 토큰들을 인덱싱화\n",
    "ids = tokenizer.convert_tokens_to_ids(tokens)\n",
    "print(f\"인덱싱화 된 토큰 : {ids}\")"
   ]
  },
  {
   "cell_type": "markdown",
   "metadata": {},
   "source": [
    "## Data Preprocessing"
   ]
  },
  {
   "cell_type": "markdown",
   "metadata": {},
   "source": [
    "#### [SEP] Token 추가"
   ]
  },
  {
   "cell_type": "code",
   "execution_count": 10,
   "metadata": {},
   "outputs": [],
   "source": [
    "def encode_sentence(s):\n",
    "    tokens = list(tokenizer.tokenize(s.numpy()))\n",
    "    tokens.append('[SEP]')\n",
    "    return tokenizer.convert_tokens_to_ids(tokens)"
   ]
  },
  {
   "cell_type": "code",
   "execution_count": 11,
   "metadata": {},
   "outputs": [],
   "source": [
    "sentence1 = tf.ragged.constant([\n",
    "    encode_sentence(s) for s in glue_train[\"sentence1\"]])\n",
    "sentence2 = tf.ragged.constant([\n",
    "    encode_sentence(s) for s in glue_train[\"sentence2\"]])"
   ]
  },
  {
   "cell_type": "markdown",
   "metadata": {},
   "source": [
    "#### [CLS] Token 추가"
   ]
  },
  {
   "cell_type": "code",
   "execution_count": 12,
   "metadata": {},
   "outputs": [
    {
     "data": {
      "image/png": "[encoded data removed]",
      "text/plain": [
       "<Figure size 432x288 with 1 Axes>"
      ]
     },
     "metadata": {
      "needs_background": "light"
     },
     "output_type": "display_data"
    }
   ],
   "source": [
    "cls = [tokenizer.convert_tokens_to_ids(['[CLS]'])]*sentence1.shape[0]\n",
    "input_word_ids = tf.concat([cls, sentence1, sentence2], axis=-1)\n",
    "_ = plt.pcolormesh(input_word_ids.to_tensor())"
   ]
  },
  {
   "cell_type": "markdown",
   "metadata": {},
   "source": [
    "#### Mask and input type"
   ]
  },
  {
   "cell_type": "markdown",
   "metadata": {},
   "source": [
    "#### input Mask\n",
    "- 패딩과 내용을 선명히 구분짓게 하기위해 input Mask를 사용\n",
    "- 패딩인 곳은 0을, 내용이 들어가는 부분은 1을 사용"
   ]
  },
  {
   "cell_type": "code",
   "execution_count": 13,
   "metadata": {},
   "outputs": [
    {
     "data": {
      "text/plain": [
       "<matplotlib.collections.QuadMesh at 0x7f1a68725080>"
      ]
     },
     "execution_count": 13,
     "metadata": {},
     "output_type": "execute_result"
    },
    {
     "data": {
      "image/png": "[encoded data removed]",
      "text/plain": [
       "<Figure size 432x288 with 1 Axes>"
      ]
     },
     "metadata": {
      "needs_background": "light"
     },
     "output_type": "display_data"
    }
   ],
   "source": [
    "input_mask = tf.ones_like(input_word_ids).to_tensor()\n",
    "plt.pcolormesh(input_mask)"
   ]
  },
  {
   "cell_type": "markdown",
   "metadata": {},
   "source": [
    "#### input type\n",
    "- Seperate embedding을 주기 위해 input type을 사용\n",
    "- sequence1에는 0을 sequence2에는 1을 사용"
   ]
  },
  {
   "cell_type": "code",
   "execution_count": 14,
   "metadata": {},
   "outputs": [
    {
     "data": {
      "text/plain": [
       "<matplotlib.collections.QuadMesh at 0x7f1a6874fb00>"
      ]
     },
     "execution_count": 14,
     "metadata": {},
     "output_type": "execute_result"
    },
    {
     "data": {
      "image/png": "[encoded data removed]",
      "text/plain": [
       "<Figure size 432x288 with 1 Axes>"
      ]
     },
     "metadata": {
      "needs_background": "light"
     },
     "output_type": "display_data"
    }
   ],
   "source": [
    "type_cls = tf.zeros_like(cls)\n",
    "type_s1 = tf.zeros_like(sentence1)\n",
    "type_s2 = tf.ones_like(sentence2)\n",
    "input_type_ids = tf.concat([type_cls, type_s1, type_s2], axis = -1).to_tensor()\n",
    "\n",
    "plt.pcolormesh(input_type_ids)"
   ]
  },
  {
   "cell_type": "markdown",
   "metadata": {},
   "source": [
    "#### 종합 :"
   ]
  },
  {
   "cell_type": "code",
   "execution_count": 15,
   "metadata": {},
   "outputs": [],
   "source": [
    "# [SEP] 토큰 추가하는 함수\n",
    "def encode_sentence(s, tokenizer):\n",
    "    tokens = list(tokenizer.tokenize(s.numpy()))\n",
    "    tokens.append('[SEP]')\n",
    "    return tokenizer.convert_tokens_to_ids(tokens)\n",
    "\n",
    "# [CLS] 토큰 추가 및 BERT에 필요한 입력 요소들을 생성하는 함수\n",
    "def bert_encode(glue_dict, tokenizer):\n",
    "    num_examples = len(glue_dict[\"sentence1\"])\n",
    "\n",
    "    sentence1 = tf.ragged.constant([\n",
    "        encode_sentence(s, tokenizer) for s in glue_dict[\"sentence1\"]])\n",
    "    sentence2 = tf.ragged.constant([\n",
    "        encode_sentence(s, tokenizer) for s in glue_dict[\"sentence2\"]])\n",
    "    \n",
    "    # CLS 토큰 선언\n",
    "    cls = [tokenizer.convert_tokens_to_ids(['[CLS]'])]*sentence1.shape[0] \n",
    "    \n",
    "    # CLS 토큰을 통해 sentense1과 sentense2를 통합\n",
    "    input_word_ids = tf.concat([cls, sentence1, sentence2], axis=-1) \n",
    "    \n",
    "    input_mask = tf.ones_like(input_word_ids).to_tensor() \n",
    "\n",
    "    type_cls = tf.zeros_like(cls)\n",
    "    type_s1 = tf.zeros_like(sentence1)\n",
    "    type_s2 = tf.ones_like(sentence2)\n",
    "    \n",
    "    input_type_ids = tf.concat(\n",
    "        [type_cls, type_s1, type_s2], axis=-1).to_tensor()\n",
    "\n",
    "    inputs = {\n",
    "        'input_word_ids': input_word_ids.to_tensor(),\n",
    "        'input_mask': input_mask,\n",
    "        'input_type_ids': input_type_ids}\n",
    "\n",
    "    return inputs"
   ]
  },
  {
   "cell_type": "code",
   "execution_count": 16,
   "metadata": {},
   "outputs": [],
   "source": [
    "glue_train = bert_encode(glue['train'], tokenizer)\n",
    "glue_train_labels = glue['train']['label']\n",
    "\n",
    "glue_validation = bert_encode(glue['validation'], tokenizer)\n",
    "glue_validation_labels = glue['validation']['label']\n",
    "\n",
    "glue_test = bert_encode(glue['test'], tokenizer)\n",
    "glue_test_labels  = glue['test']['label']"
   ]
  },
  {
   "cell_type": "markdown",
   "metadata": {},
   "source": [
    "## Model"
   ]
  },
  {
   "cell_type": "markdown",
   "metadata": {},
   "source": [
    "#### Model implement\n",
    "- load the pre-trained BERT Model"
   ]
  },
  {
   "cell_type": "markdown",
   "metadata": {},
   "source": [
    "#### BERT 모델 정의"
   ]
  },
  {
   "cell_type": "code",
   "execution_count": 17,
   "metadata": {},
   "outputs": [],
   "source": [
    "import json\n",
    "\n",
    "bert_config_file = os.path.join(gs_folder_bert, \"bert_config.json\")\n",
    "config_dict = json.loads(tf.io.gfile.GFile(bert_config_file).read())\n",
    "\n",
    "bert_config = bert.configs.BertConfig.from_dict(config_dict)"
   ]
  },
  {
   "cell_type": "code",
   "execution_count": 18,
   "metadata": {},
   "outputs": [
    {
     "data": {
      "text/plain": [
       "{'attention_probs_dropout_prob': 0.1,\n",
       " 'directionality': 'bidi',\n",
       " 'hidden_act': 'gelu',\n",
       " 'hidden_dropout_prob': 0.1,\n",
       " 'hidden_size': 768,\n",
       " 'initializer_range': 0.02,\n",
       " 'intermediate_size': 3072,\n",
       " 'max_position_embeddings': 512,\n",
       " 'num_attention_heads': 12,\n",
       " 'num_hidden_layers': 12,\n",
       " 'pooler_fc_size': 768,\n",
       " 'pooler_num_attention_heads': 12,\n",
       " 'pooler_num_fc_layers': 3,\n",
       " 'pooler_size_per_head': 128,\n",
       " 'pooler_type': 'first_token_transform',\n",
       " 'type_vocab_size': 2,\n",
       " 'vocab_size': 119547}"
      ]
     },
     "execution_count": 18,
     "metadata": {},
     "output_type": "execute_result"
    }
   ],
   "source": [
    "config_dict"
   ]
  },
  {
   "cell_type": "markdown",
   "metadata": {},
   "source": [
    "- 정의한 parameter들에 대한 BERT의 인코더와 분류기를 반환 "
   ]
  },
  {
   "cell_type": "code",
   "execution_count": 19,
   "metadata": {},
   "outputs": [],
   "source": [
    "bert_classifier, bert_encoder = bert.bert_models.classifier_model(\n",
    "    bert_config, num_labels=2)"
   ]
  },
  {
   "cell_type": "code",
   "execution_count": 20,
   "metadata": {},
   "outputs": [
    {
     "data": {
      "text/plain": [
       "array([[ 0.0147273 ,  0.26615652],\n",
       "       [-0.15612523,  0.1048886 ],\n",
       "       [-0.05868465,  0.23385657],\n",
       "       [ 0.00307757,  0.18046997],\n",
       "       [ 0.03911594,  0.1972606 ],\n",
       "       [-0.05426488,  0.12014326],\n",
       "       [ 0.04804478,  0.10972693],\n",
       "       [-0.01277722,  0.24642962],\n",
       "       [-0.21832494,  0.10097876],\n",
       "       [-0.03149541,  0.38252228]], dtype=float32)"
      ]
     },
     "execution_count": 20,
     "metadata": {},
     "output_type": "execute_result"
    }
   ],
   "source": [
    "glue_batch = {key: val[:10] for key, val in glue_train.items()}\n",
    "\n",
    "bert_classifier(\n",
    "    glue_batch, training=True\n",
    ").numpy()"
   ]
  },
  {
   "cell_type": "markdown",
   "metadata": {},
   "source": [
    "#### 인코더 가중치 복원"
   ]
  },
  {
   "cell_type": "markdown",
   "metadata": {},
   "source": [
    "- 인코더가 빌드되면 임의로 초기화됨\n",
    "- 체크 포인트에서 인코더의 가중치를 복원"
   ]
  },
  {
   "cell_type": "code",
   "execution_count": 21,
   "metadata": {},
   "outputs": [],
   "source": [
    "checkpoint = tf.train.Checkpoint(encoder = bert_encoder)\n",
    "#checkpoint.read(\n",
    "#    os.path.join(gs_folder_bert, 'bert_model.ckpt')).assert_consumed()"
   ]
  },
  {
   "cell_type": "markdown",
   "metadata": {},
   "source": [
    "#### 하이퍼 파라미터 정의"
   ]
  },
  {
   "cell_type": "code",
   "execution_count": 22,
   "metadata": {},
   "outputs": [],
   "source": [
    "epochs = 3\n",
    "batch_size = 32\n",
    "eval_batch_size = 32\n",
    "\n",
    "train_data_size = len(glue_train_labels)\n",
    "steps_per_epoch = int(train_data_size / batch_size)\n",
    "num_train_steps = steps_per_epoch*epochs\n",
    "warmup_steps = int(epochs*train_data_size*0.1/batch_size)\n",
    "\n",
    "# Optimizer 정의\n",
    "optimizer = nlp.optimization.create_optimizer(\n",
    "    2e-5, num_train_steps=num_train_steps, num_warmup_steps=warmup_steps)\n"
   ]
  },
  {
   "cell_type": "markdown",
   "metadata": {},
   "source": [
    "- Adam을 사용하는 Optimizer인지 확인"
   ]
  },
  {
   "cell_type": "code",
   "execution_count": 23,
   "metadata": {},
   "outputs": [
    {
     "data": {
      "text/plain": [
       "official.nlp.optimization.AdamWeightDecay"
      ]
     },
     "execution_count": 23,
     "metadata": {},
     "output_type": "execute_result"
    }
   ],
   "source": [
    "type(optimizer)"
   ]
  },
  {
   "cell_type": "markdown",
   "metadata": {},
   "source": [
    "# 모델 Training"
   ]
  },
  {
   "cell_type": "markdown",
   "metadata": {},
   "source": [
    "#### 모델 컴파일"
   ]
  },
  {
   "cell_type": "code",
   "execution_count": 24,
   "metadata": {},
   "outputs": [],
   "source": [
    "metrics = [tf.keras.metrics.SparseCategoricalAccuracy('accuracy', dtype=tf.float32)]\n",
    "loss = tf.keras.losses.SparseCategoricalCrossentropy(from_logits=True)\n",
    "\n",
    "bert_classifier.compile(\n",
    "    optimizer=optimizer,\n",
    "    loss=loss,\n",
    "    metrics=metrics)"
   ]
  },
  {
   "cell_type": "markdown",
   "metadata": {},
   "source": [
    "#### 모델 훈련"
   ]
  },
  {
   "cell_type": "code",
   "execution_count": 25,
   "metadata": {},
   "outputs": [
    {
     "name": "stdout",
     "output_type": "stream",
     "text": [
      "Epoch 1/10\n",
      "115/115 [==============================] - 55s 390ms/step - loss: 0.6552 - accuracy: 0.6611 - val_loss: 0.6191 - val_accuracy: 0.6838\n",
      "Epoch 2/10\n",
      "115/115 [==============================] - 44s 384ms/step - loss: 0.6239 - accuracy: 0.6752 - val_loss: 0.5995 - val_accuracy: 0.6716\n",
      "Epoch 3/10\n",
      "115/115 [==============================] - 45s 389ms/step - loss: 0.5780 - accuracy: 0.6984 - val_loss: 0.6007 - val_accuracy: 0.6765\n",
      "Epoch 4/10\n",
      "115/115 [==============================] - 45s 395ms/step - loss: 0.5773 - accuracy: 0.6967 - val_loss: 0.6007 - val_accuracy: 0.6765\n",
      "Epoch 5/10\n",
      "115/115 [==============================] - 45s 392ms/step - loss: 0.5771 - accuracy: 0.7015 - val_loss: 0.6007 - val_accuracy: 0.6765\n",
      "Epoch 6/10\n",
      "115/115 [==============================] - 45s 394ms/step - loss: 0.5667 - accuracy: 0.7096 - val_loss: 0.6007 - val_accuracy: 0.6765\n",
      "Epoch 7/10\n",
      "115/115 [==============================] - 45s 390ms/step - loss: 0.5718 - accuracy: 0.7084 - val_loss: 0.6007 - val_accuracy: 0.6765\n",
      "Epoch 8/10\n",
      "115/115 [==============================] - 45s 390ms/step - loss: 0.5766 - accuracy: 0.6984 - val_loss: 0.6007 - val_accuracy: 0.6765\n",
      "Epoch 9/10\n",
      "115/115 [==============================] - 45s 392ms/step - loss: 0.5754 - accuracy: 0.7034 - val_loss: 0.6007 - val_accuracy: 0.6765\n",
      "Epoch 10/10\n",
      "115/115 [==============================] - 45s 392ms/step - loss: 0.5752 - accuracy: 0.7086 - val_loss: 0.6007 - val_accuracy: 0.6765\n"
     ]
    },
    {
     "data": {
      "text/plain": [
       "<tensorflow.python.keras.callbacks.History at 0x7f1a6074d898>"
      ]
     },
     "execution_count": 25,
     "metadata": {},
     "output_type": "execute_result"
    }
   ],
   "source": [
    "bert_classifier.fit(\n",
    "        glue_train, glue_train_labels,\n",
    "        validation_data=(glue_validation, glue_validation_labels),\n",
    "        batch_size=32,\n",
    "        epochs = 10)"
   ]
  },
  {
   "cell_type": "markdown",
   "metadata": {},
   "source": [
    "#### 모델 저장"
   ]
  },
  {
   "cell_type": "code",
   "execution_count": 26,
   "metadata": {},
   "outputs": [
    {
     "name": "stderr",
     "output_type": "stream",
     "text": [
      "WARNING:absl:Found untraced functions such as self_attention_layer_call_fn, self_attention_layer_call_and_return_conditional_losses, dropout_layer_call_fn, dropout_layer_call_and_return_conditional_losses, self_attention_layer_norm_layer_call_fn while saving (showing 5 of 900). These functions will not be directly callable after loading.\n",
      "WARNING:absl:Found untraced functions such as self_attention_layer_call_fn, self_attention_layer_call_and_return_conditional_losses, dropout_layer_call_fn, dropout_layer_call_and_return_conditional_losses, self_attention_layer_norm_layer_call_fn while saving (showing 5 of 900). These functions will not be directly callable after loading.\n"
     ]
    },
    {
     "name": "stdout",
     "output_type": "stream",
     "text": [
      "INFO:tensorflow:Assets written to: ./saved_model/assets\n"
     ]
    },
    {
     "name": "stderr",
     "output_type": "stream",
     "text": [
      "INFO:tensorflow:Assets written to: ./saved_model/assets\n"
     ]
    }
   ],
   "source": [
    "export_dir = './saved_model'\n",
    "tf.saved_model.save(bert_classifier, export_dir=export_dir)"
   ]
  },
  {
   "cell_type": "code",
   "execution_count": null,
   "metadata": {},
   "outputs": [],
   "source": [
    "\n"
   ]
  }
 ],
 "metadata": {
  "kernelspec": {
   "display_name": "Python 3",
   "language": "python",
   "name": "python3"
  },
  "language_info": {
   "codemirror_mode": {
    "name": "ipython",
    "version": 3
   },
   "file_extension": ".py",
   "mimetype": "text/x-python",
   "name": "python",
   "nbconvert_exporter": "python",
   "pygments_lexer": "ipython3",
   "version": "3.6.9"
  }
 },
 "nbformat": 4,
 "nbformat_minor": 2
}
